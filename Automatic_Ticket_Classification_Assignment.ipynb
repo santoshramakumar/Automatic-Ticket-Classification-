{
  "nbformat": 4,
  "nbformat_minor": 0,
  "metadata": {
    "kernelspec": {
      "display_name": "Python 3",
      "language": "python",
      "name": "python3"
    },
    "language_info": {
      "codemirror_mode": {
        "name": "ipython",
        "version": 3
      },
      "file_extension": ".py",
      "mimetype": "text/x-python",
      "name": "python",
      "nbconvert_exporter": "python",
      "pygments_lexer": "ipython3",
      "version": "3.7.6"
    },
    "colab": {
      "name": "Automatic_Ticket_Classification_Assignment.ipynb",
      "provenance": [],
      "collapsed_sections": [
        "T9jD_6SeJrF3",
        "5DfCSbbmJrF4",
        "yYzD85nTJrGA",
        "piyLxzj6v07j",
        "280Vbqk-7a8M"
      ]
    }
  },
  "cells": [
    {
      "cell_type": "markdown",
      "metadata": {
        "id": "rhR-ZUkwJrFn"
      },
      "source": [
        "## Problem Statement \n",
        "\n",
        "You need to build a model that is able to classify customer complaints based on the products/services. By doing so, you can segregate these tickets into their relevant categories and, therefore, help in the quick resolution of the issue.\n",
        "\n",
        "You will be doing topic modelling on the <b>.json</b> data provided by the company. Since this data is not labelled, you need to apply NMF to analyse patterns and classify tickets into the following five clusters based on their products/services:\n",
        "\n",
        "* Credit card / Prepaid card\n",
        "\n",
        "* Bank account services\n",
        "\n",
        "* Theft/Dispute reporting\n",
        "\n",
        "* Mortgages/loans\n",
        "\n",
        "* Others \n",
        "\n",
        "\n",
        "With the help of topic modelling, you will be able to map each ticket onto its respective department/category. You can then use this data to train any supervised model such as logistic regression, decision tree or random forest. Using this trained model, you can classify any new customer complaint support ticket into its relevant department."
      ]
    },
    {
      "cell_type": "markdown",
      "metadata": {
        "id": "mcgXVNyaLUFS"
      },
      "source": [
        "## Pipelines that needs to be performed:\n",
        "\n",
        "You need to perform the following eight major tasks to complete the assignment:\n",
        "\n",
        "1.  Data loading\n",
        "\n",
        "2. Text preprocessing\n",
        "\n",
        "3. Exploratory data analysis (EDA)\n",
        "\n",
        "4. Feature extraction\n",
        "\n",
        "5. Topic modelling \n",
        "\n",
        "6. Model building using supervised learning\n",
        "\n",
        "7. Model training and evaluation\n",
        "\n",
        "8. Model inference"
      ]
    },
    {
      "cell_type": "markdown",
      "metadata": {
        "id": "JuLFIymAL58u"
      },
      "source": [
        "## Importing the necessary libraries"
      ]
    },
    {
      "cell_type": "code",
      "metadata": {
        "id": "O-Q9pqrcJrFr",
        "colab": {
          "base_uri": "https://localhost:8080/"
        },
        "outputId": "ae397066-1a5b-4203-f6a8-fb2ac17338a3"
      },
      "source": [
        "import json \n",
        "import numpy as np\n",
        "import pandas as pd\n",
        "import re, nltk, spacy, string\n",
        "model = spacy.load(\"en_core_web_sm\")\n",
        "import en_core_web_sm\n",
        "nlp = en_core_web_sm.load()\n",
        "import seaborn as sns\n",
        "import matplotlib.pyplot as plt\n",
        "%matplotlib inline\n",
        "\n",
        "from plotly.offline import plot\n",
        "import plotly.graph_objects as go\n",
        "import plotly.express as px\n",
        "\n",
        "from sklearn.feature_extraction.text import CountVectorizer, TfidfVectorizer\n",
        "from pprint import pprint\n",
        "\n",
        "import nltk\n",
        "nltk.download('punkt')\n",
        "nltk.download('wordnet')\n",
        "from nltk.stem import WordNetLemmatizer\n",
        "\n",
        "from nltk import word_tokenize, pos_tag\n",
        "\n",
        "nltk.download('averaged_perceptron_tagger')\n"
      ],
      "execution_count": 45,
      "outputs": [
        {
          "output_type": "stream",
          "name": "stdout",
          "text": [
            "[nltk_data] Downloading package punkt to /root/nltk_data...\n",
            "[nltk_data]   Package punkt is already up-to-date!\n",
            "[nltk_data] Downloading package wordnet to /root/nltk_data...\n",
            "[nltk_data]   Package wordnet is already up-to-date!\n",
            "[nltk_data] Downloading package averaged_perceptron_tagger to\n",
            "[nltk_data]     /root/nltk_data...\n",
            "[nltk_data]   Unzipping taggers/averaged_perceptron_tagger.zip.\n"
          ]
        },
        {
          "output_type": "execute_result",
          "data": {
            "text/plain": [
              "True"
            ]
          },
          "metadata": {},
          "execution_count": 45
        }
      ]
    },
    {
      "cell_type": "code",
      "source": [
        "!pip install contractions"
      ],
      "metadata": {
        "colab": {
          "base_uri": "https://localhost:8080/"
        },
        "id": "CHj9PRcyXBE1",
        "outputId": "75960732-817c-4189-8e22-c69e0c07be78"
      },
      "execution_count": 4,
      "outputs": [
        {
          "output_type": "stream",
          "name": "stdout",
          "text": [
            "Collecting contractions\n",
            "  Downloading contractions-0.0.58-py2.py3-none-any.whl (8.0 kB)\n",
            "Collecting textsearch>=0.0.21\n",
            "  Downloading textsearch-0.0.21-py2.py3-none-any.whl (7.5 kB)\n",
            "Collecting anyascii\n",
            "  Downloading anyascii-0.3.0-py3-none-any.whl (284 kB)\n",
            "\u001b[K     |████████████████████████████████| 284 kB 4.8 MB/s \n",
            "\u001b[?25hCollecting pyahocorasick\n",
            "  Downloading pyahocorasick-1.4.2.tar.gz (321 kB)\n",
            "\u001b[K     |████████████████████████████████| 321 kB 47.6 MB/s \n",
            "\u001b[?25hBuilding wheels for collected packages: pyahocorasick\n",
            "  Building wheel for pyahocorasick (setup.py) ... \u001b[?25l\u001b[?25hdone\n",
            "  Created wheel for pyahocorasick: filename=pyahocorasick-1.4.2-cp37-cp37m-linux_x86_64.whl size=85450 sha256=75300114aa0f250664937207106b90ef6b0e3811be07bc3e8dc92f65bb0cc567\n",
            "  Stored in directory: /root/.cache/pip/wheels/25/19/a6/8f363d9939162782bb8439d886469756271abc01f76fbd790f\n",
            "Successfully built pyahocorasick\n",
            "Installing collected packages: pyahocorasick, anyascii, textsearch, contractions\n",
            "Successfully installed anyascii-0.3.0 contractions-0.0.58 pyahocorasick-1.4.2 textsearch-0.0.21\n"
          ]
        }
      ]
    },
    {
      "cell_type": "code",
      "source": [
        "import contractions"
      ],
      "metadata": {
        "id": "0dJ_j1FJXeMB"
      },
      "execution_count": 5,
      "outputs": []
    },
    {
      "cell_type": "markdown",
      "metadata": {
        "id": "KtRLCsNVJrFt"
      },
      "source": [
        "## Loading the data\n",
        "\n",
        "The data is in JSON format and we need to convert it to a dataframe."
      ]
    },
    {
      "cell_type": "code",
      "source": [
        ""
      ],
      "metadata": {
        "id": "_1VJ5saPzFTO"
      },
      "execution_count": 5,
      "outputs": []
    },
    {
      "cell_type": "code",
      "source": [
        "from google.colab import drive\n",
        "drive.mount('/content/drive')"
      ],
      "metadata": {
        "colab": {
          "base_uri": "https://localhost:8080/"
        },
        "id": "wmVEOVVszGid",
        "outputId": "c0702ddf-887c-4b82-f0a8-8fe68a1e5021"
      },
      "execution_count": 6,
      "outputs": [
        {
          "output_type": "stream",
          "name": "stdout",
          "text": [
            "Drive already mounted at /content/drive; to attempt to forcibly remount, call drive.mount(\"/content/drive\", force_remount=True).\n"
          ]
        }
      ]
    },
    {
      "cell_type": "code",
      "metadata": {
        "id": "puVzIf_iJrFt"
      },
      "source": [
        "# Opening JSON file \n",
        "f = open(\"/content/drive/MyDrive/ML data /complaintsData/complaints-2021-05-14_08_16.json\",'r')  # Write the path to your data file and load it \n",
        "  \n",
        "# returns JSON object as  \n",
        "# a dictionary \n",
        "data = json.loads(f.read())\n",
        "df=pd.json_normalize(data)"
      ],
      "execution_count": 7,
      "outputs": []
    },
    {
      "cell_type": "markdown",
      "metadata": {
        "id": "_xYpH-sAJrFu"
      },
      "source": [
        "## Data preparation"
      ]
    },
    {
      "cell_type": "code",
      "metadata": {
        "id": "Lf8ufHH5JrFu",
        "colab": {
          "base_uri": "https://localhost:8080/",
          "height": 426
        },
        "outputId": "e1e92e97-8816-4819-b6da-5278fbc9a974"
      },
      "source": [
        "# Inspect the dataframe to understand the given data.\n",
        "\n",
        "df.head()"
      ],
      "execution_count": 8,
      "outputs": [
        {
          "output_type": "execute_result",
          "data": {
            "text/html": [
              "\n",
              "  <div id=\"df-6f3076f8-289a-46f3-9cae-4413019f5867\">\n",
              "    <div class=\"colab-df-container\">\n",
              "      <div>\n",
              "<style scoped>\n",
              "    .dataframe tbody tr th:only-of-type {\n",
              "        vertical-align: middle;\n",
              "    }\n",
              "\n",
              "    .dataframe tbody tr th {\n",
              "        vertical-align: top;\n",
              "    }\n",
              "\n",
              "    .dataframe thead th {\n",
              "        text-align: right;\n",
              "    }\n",
              "</style>\n",
              "<table border=\"1\" class=\"dataframe\">\n",
              "  <thead>\n",
              "    <tr style=\"text-align: right;\">\n",
              "      <th></th>\n",
              "      <th>_index</th>\n",
              "      <th>_type</th>\n",
              "      <th>_id</th>\n",
              "      <th>_score</th>\n",
              "      <th>_source.tags</th>\n",
              "      <th>_source.zip_code</th>\n",
              "      <th>_source.complaint_id</th>\n",
              "      <th>_source.issue</th>\n",
              "      <th>_source.date_received</th>\n",
              "      <th>_source.state</th>\n",
              "      <th>_source.consumer_disputed</th>\n",
              "      <th>_source.product</th>\n",
              "      <th>_source.company_response</th>\n",
              "      <th>_source.company</th>\n",
              "      <th>_source.submitted_via</th>\n",
              "      <th>_source.date_sent_to_company</th>\n",
              "      <th>_source.company_public_response</th>\n",
              "      <th>_source.sub_product</th>\n",
              "      <th>_source.timely</th>\n",
              "      <th>_source.complaint_what_happened</th>\n",
              "      <th>_source.sub_issue</th>\n",
              "      <th>_source.consumer_consent_provided</th>\n",
              "    </tr>\n",
              "  </thead>\n",
              "  <tbody>\n",
              "    <tr>\n",
              "      <th>0</th>\n",
              "      <td>complaint-public-v2</td>\n",
              "      <td>complaint</td>\n",
              "      <td>3211475</td>\n",
              "      <td>0.0</td>\n",
              "      <td>None</td>\n",
              "      <td>90301</td>\n",
              "      <td>3211475</td>\n",
              "      <td>Attempts to collect debt not owed</td>\n",
              "      <td>2019-04-13T12:00:00-05:00</td>\n",
              "      <td>CA</td>\n",
              "      <td>N/A</td>\n",
              "      <td>Debt collection</td>\n",
              "      <td>Closed with explanation</td>\n",
              "      <td>JPMORGAN CHASE &amp; CO.</td>\n",
              "      <td>Web</td>\n",
              "      <td>2019-04-13T12:00:00-05:00</td>\n",
              "      <td>None</td>\n",
              "      <td>Credit card debt</td>\n",
              "      <td>Yes</td>\n",
              "      <td></td>\n",
              "      <td>Debt is not yours</td>\n",
              "      <td>Consent not provided</td>\n",
              "    </tr>\n",
              "    <tr>\n",
              "      <th>1</th>\n",
              "      <td>complaint-public-v2</td>\n",
              "      <td>complaint</td>\n",
              "      <td>3229299</td>\n",
              "      <td>0.0</td>\n",
              "      <td>Servicemember</td>\n",
              "      <td>319XX</td>\n",
              "      <td>3229299</td>\n",
              "      <td>Written notification about debt</td>\n",
              "      <td>2019-05-01T12:00:00-05:00</td>\n",
              "      <td>GA</td>\n",
              "      <td>N/A</td>\n",
              "      <td>Debt collection</td>\n",
              "      <td>Closed with explanation</td>\n",
              "      <td>JPMORGAN CHASE &amp; CO.</td>\n",
              "      <td>Web</td>\n",
              "      <td>2019-05-01T12:00:00-05:00</td>\n",
              "      <td>None</td>\n",
              "      <td>Credit card debt</td>\n",
              "      <td>Yes</td>\n",
              "      <td>Good morning my name is XXXX XXXX and I apprec...</td>\n",
              "      <td>Didn't receive enough information to verify debt</td>\n",
              "      <td>Consent provided</td>\n",
              "    </tr>\n",
              "    <tr>\n",
              "      <th>2</th>\n",
              "      <td>complaint-public-v2</td>\n",
              "      <td>complaint</td>\n",
              "      <td>3199379</td>\n",
              "      <td>0.0</td>\n",
              "      <td>None</td>\n",
              "      <td>77069</td>\n",
              "      <td>3199379</td>\n",
              "      <td>Other features, terms, or problems</td>\n",
              "      <td>2019-04-02T12:00:00-05:00</td>\n",
              "      <td>TX</td>\n",
              "      <td>N/A</td>\n",
              "      <td>Credit card or prepaid card</td>\n",
              "      <td>Closed with explanation</td>\n",
              "      <td>JPMORGAN CHASE &amp; CO.</td>\n",
              "      <td>Web</td>\n",
              "      <td>2019-04-02T12:00:00-05:00</td>\n",
              "      <td>None</td>\n",
              "      <td>General-purpose credit card or charge card</td>\n",
              "      <td>Yes</td>\n",
              "      <td>I upgraded my XXXX XXXX card in XX/XX/2018 and...</td>\n",
              "      <td>Problem with rewards from credit card</td>\n",
              "      <td>Consent provided</td>\n",
              "    </tr>\n",
              "    <tr>\n",
              "      <th>3</th>\n",
              "      <td>complaint-public-v2</td>\n",
              "      <td>complaint</td>\n",
              "      <td>2673060</td>\n",
              "      <td>0.0</td>\n",
              "      <td>None</td>\n",
              "      <td>48066</td>\n",
              "      <td>2673060</td>\n",
              "      <td>Trouble during payment process</td>\n",
              "      <td>2017-09-13T12:00:00-05:00</td>\n",
              "      <td>MI</td>\n",
              "      <td>N/A</td>\n",
              "      <td>Mortgage</td>\n",
              "      <td>Closed with explanation</td>\n",
              "      <td>JPMORGAN CHASE &amp; CO.</td>\n",
              "      <td>Web</td>\n",
              "      <td>2017-09-14T12:00:00-05:00</td>\n",
              "      <td>None</td>\n",
              "      <td>Conventional home mortgage</td>\n",
              "      <td>Yes</td>\n",
              "      <td></td>\n",
              "      <td>None</td>\n",
              "      <td>Consent not provided</td>\n",
              "    </tr>\n",
              "    <tr>\n",
              "      <th>4</th>\n",
              "      <td>complaint-public-v2</td>\n",
              "      <td>complaint</td>\n",
              "      <td>3203545</td>\n",
              "      <td>0.0</td>\n",
              "      <td>None</td>\n",
              "      <td>10473</td>\n",
              "      <td>3203545</td>\n",
              "      <td>Fees or interest</td>\n",
              "      <td>2019-04-05T12:00:00-05:00</td>\n",
              "      <td>NY</td>\n",
              "      <td>N/A</td>\n",
              "      <td>Credit card or prepaid card</td>\n",
              "      <td>Closed with explanation</td>\n",
              "      <td>JPMORGAN CHASE &amp; CO.</td>\n",
              "      <td>Referral</td>\n",
              "      <td>2019-04-05T12:00:00-05:00</td>\n",
              "      <td>None</td>\n",
              "      <td>General-purpose credit card or charge card</td>\n",
              "      <td>Yes</td>\n",
              "      <td></td>\n",
              "      <td>Charged too much interest</td>\n",
              "      <td>N/A</td>\n",
              "    </tr>\n",
              "  </tbody>\n",
              "</table>\n",
              "</div>\n",
              "      <button class=\"colab-df-convert\" onclick=\"convertToInteractive('df-6f3076f8-289a-46f3-9cae-4413019f5867')\"\n",
              "              title=\"Convert this dataframe to an interactive table.\"\n",
              "              style=\"display:none;\">\n",
              "        \n",
              "  <svg xmlns=\"http://www.w3.org/2000/svg\" height=\"24px\"viewBox=\"0 0 24 24\"\n",
              "       width=\"24px\">\n",
              "    <path d=\"M0 0h24v24H0V0z\" fill=\"none\"/>\n",
              "    <path d=\"M18.56 5.44l.94 2.06.94-2.06 2.06-.94-2.06-.94-.94-2.06-.94 2.06-2.06.94zm-11 1L8.5 8.5l.94-2.06 2.06-.94-2.06-.94L8.5 2.5l-.94 2.06-2.06.94zm10 10l.94 2.06.94-2.06 2.06-.94-2.06-.94-.94-2.06-.94 2.06-2.06.94z\"/><path d=\"M17.41 7.96l-1.37-1.37c-.4-.4-.92-.59-1.43-.59-.52 0-1.04.2-1.43.59L10.3 9.45l-7.72 7.72c-.78.78-.78 2.05 0 2.83L4 21.41c.39.39.9.59 1.41.59.51 0 1.02-.2 1.41-.59l7.78-7.78 2.81-2.81c.8-.78.8-2.07 0-2.86zM5.41 20L4 18.59l7.72-7.72 1.47 1.35L5.41 20z\"/>\n",
              "  </svg>\n",
              "      </button>\n",
              "      \n",
              "  <style>\n",
              "    .colab-df-container {\n",
              "      display:flex;\n",
              "      flex-wrap:wrap;\n",
              "      gap: 12px;\n",
              "    }\n",
              "\n",
              "    .colab-df-convert {\n",
              "      background-color: #E8F0FE;\n",
              "      border: none;\n",
              "      border-radius: 50%;\n",
              "      cursor: pointer;\n",
              "      display: none;\n",
              "      fill: #1967D2;\n",
              "      height: 32px;\n",
              "      padding: 0 0 0 0;\n",
              "      width: 32px;\n",
              "    }\n",
              "\n",
              "    .colab-df-convert:hover {\n",
              "      background-color: #E2EBFA;\n",
              "      box-shadow: 0px 1px 2px rgba(60, 64, 67, 0.3), 0px 1px 3px 1px rgba(60, 64, 67, 0.15);\n",
              "      fill: #174EA6;\n",
              "    }\n",
              "\n",
              "    [theme=dark] .colab-df-convert {\n",
              "      background-color: #3B4455;\n",
              "      fill: #D2E3FC;\n",
              "    }\n",
              "\n",
              "    [theme=dark] .colab-df-convert:hover {\n",
              "      background-color: #434B5C;\n",
              "      box-shadow: 0px 1px 3px 1px rgba(0, 0, 0, 0.15);\n",
              "      filter: drop-shadow(0px 1px 2px rgba(0, 0, 0, 0.3));\n",
              "      fill: #FFFFFF;\n",
              "    }\n",
              "  </style>\n",
              "\n",
              "      <script>\n",
              "        const buttonEl =\n",
              "          document.querySelector('#df-6f3076f8-289a-46f3-9cae-4413019f5867 button.colab-df-convert');\n",
              "        buttonEl.style.display =\n",
              "          google.colab.kernel.accessAllowed ? 'block' : 'none';\n",
              "\n",
              "        async function convertToInteractive(key) {\n",
              "          const element = document.querySelector('#df-6f3076f8-289a-46f3-9cae-4413019f5867');\n",
              "          const dataTable =\n",
              "            await google.colab.kernel.invokeFunction('convertToInteractive',\n",
              "                                                     [key], {});\n",
              "          if (!dataTable) return;\n",
              "\n",
              "          const docLinkHtml = 'Like what you see? Visit the ' +\n",
              "            '<a target=\"_blank\" href=https://colab.research.google.com/notebooks/data_table.ipynb>data table notebook</a>'\n",
              "            + ' to learn more about interactive tables.';\n",
              "          element.innerHTML = '';\n",
              "          dataTable['output_type'] = 'display_data';\n",
              "          await google.colab.output.renderOutput(dataTable, element);\n",
              "          const docLink = document.createElement('div');\n",
              "          docLink.innerHTML = docLinkHtml;\n",
              "          element.appendChild(docLink);\n",
              "        }\n",
              "      </script>\n",
              "    </div>\n",
              "  </div>\n",
              "  "
            ],
            "text/plain": [
              "                _index  ... _source.consumer_consent_provided\n",
              "0  complaint-public-v2  ...              Consent not provided\n",
              "1  complaint-public-v2  ...                  Consent provided\n",
              "2  complaint-public-v2  ...                  Consent provided\n",
              "3  complaint-public-v2  ...              Consent not provided\n",
              "4  complaint-public-v2  ...                               N/A\n",
              "\n",
              "[5 rows x 22 columns]"
            ]
          },
          "metadata": {},
          "execution_count": 8
        }
      ]
    },
    {
      "cell_type": "code",
      "source": [
        "df.shape"
      ],
      "metadata": {
        "colab": {
          "base_uri": "https://localhost:8080/"
        },
        "id": "tvG1DOYm1egA",
        "outputId": "27c361ee-9b0d-41d8-99b0-cb66f71e7c2c"
      },
      "execution_count": 9,
      "outputs": [
        {
          "output_type": "execute_result",
          "data": {
            "text/plain": [
              "(78313, 22)"
            ]
          },
          "metadata": {},
          "execution_count": 9
        }
      ]
    },
    {
      "cell_type": "code",
      "source": [
        "df.info()"
      ],
      "metadata": {
        "colab": {
          "base_uri": "https://localhost:8080/"
        },
        "id": "gukZGevGS9jT",
        "outputId": "a134d3d2-f01a-4e58-cec7-e49125857c74"
      },
      "execution_count": 10,
      "outputs": [
        {
          "output_type": "stream",
          "name": "stdout",
          "text": [
            "<class 'pandas.core.frame.DataFrame'>\n",
            "RangeIndex: 78313 entries, 0 to 78312\n",
            "Data columns (total 22 columns):\n",
            " #   Column                             Non-Null Count  Dtype  \n",
            "---  ------                             --------------  -----  \n",
            " 0   _index                             78313 non-null  object \n",
            " 1   _type                              78313 non-null  object \n",
            " 2   _id                                78313 non-null  object \n",
            " 3   _score                             78313 non-null  float64\n",
            " 4   _source.tags                       10900 non-null  object \n",
            " 5   _source.zip_code                   71556 non-null  object \n",
            " 6   _source.complaint_id               78313 non-null  object \n",
            " 7   _source.issue                      78313 non-null  object \n",
            " 8   _source.date_received              78313 non-null  object \n",
            " 9   _source.state                      76322 non-null  object \n",
            " 10  _source.consumer_disputed          78313 non-null  object \n",
            " 11  _source.product                    78313 non-null  object \n",
            " 12  _source.company_response           78313 non-null  object \n",
            " 13  _source.company                    78313 non-null  object \n",
            " 14  _source.submitted_via              78313 non-null  object \n",
            " 15  _source.date_sent_to_company       78313 non-null  object \n",
            " 16  _source.company_public_response    4 non-null      object \n",
            " 17  _source.sub_product                67742 non-null  object \n",
            " 18  _source.timely                     78313 non-null  object \n",
            " 19  _source.complaint_what_happened    78313 non-null  object \n",
            " 20  _source.sub_issue                  32016 non-null  object \n",
            " 21  _source.consumer_consent_provided  77305 non-null  object \n",
            "dtypes: float64(1), object(21)\n",
            "memory usage: 13.1+ MB\n"
          ]
        }
      ]
    },
    {
      "cell_type": "code",
      "source": [
        "df.isna().sum()"
      ],
      "metadata": {
        "colab": {
          "base_uri": "https://localhost:8080/"
        },
        "id": "tbyZwr8nO5_b",
        "outputId": "92be31fc-2ee6-43af-e2c1-1ede47e481f7"
      },
      "execution_count": 11,
      "outputs": [
        {
          "output_type": "execute_result",
          "data": {
            "text/plain": [
              "_index                                   0\n",
              "_type                                    0\n",
              "_id                                      0\n",
              "_score                                   0\n",
              "_source.tags                         67413\n",
              "_source.zip_code                      6757\n",
              "_source.complaint_id                     0\n",
              "_source.issue                            0\n",
              "_source.date_received                    0\n",
              "_source.state                         1991\n",
              "_source.consumer_disputed                0\n",
              "_source.product                          0\n",
              "_source.company_response                 0\n",
              "_source.company                          0\n",
              "_source.submitted_via                    0\n",
              "_source.date_sent_to_company             0\n",
              "_source.company_public_response      78309\n",
              "_source.sub_product                  10571\n",
              "_source.timely                           0\n",
              "_source.complaint_what_happened          0\n",
              "_source.sub_issue                    46297\n",
              "_source.consumer_consent_provided     1008\n",
              "dtype: int64"
            ]
          },
          "metadata": {},
          "execution_count": 11
        }
      ]
    },
    {
      "cell_type": "code",
      "source": [
        "# find % of of na columns wise \n",
        "\n",
        "df.isna().sum()/len(df.index)*100"
      ],
      "metadata": {
        "colab": {
          "base_uri": "https://localhost:8080/"
        },
        "id": "j9FGnmR-8zgr",
        "outputId": "d8989ec1-2bac-46e4-b4ae-78a8aae375e1"
      },
      "execution_count": 12,
      "outputs": [
        {
          "output_type": "execute_result",
          "data": {
            "text/plain": [
              "_index                                0.000000\n",
              "_type                                 0.000000\n",
              "_id                                   0.000000\n",
              "_score                                0.000000\n",
              "_source.tags                         86.081493\n",
              "_source.zip_code                      8.628197\n",
              "_source.complaint_id                  0.000000\n",
              "_source.issue                         0.000000\n",
              "_source.date_received                 0.000000\n",
              "_source.state                         2.542362\n",
              "_source.consumer_disputed             0.000000\n",
              "_source.product                       0.000000\n",
              "_source.company_response              0.000000\n",
              "_source.company                       0.000000\n",
              "_source.submitted_via                 0.000000\n",
              "_source.date_sent_to_company          0.000000\n",
              "_source.company_public_response      99.994892\n",
              "_source.sub_product                  13.498397\n",
              "_source.timely                        0.000000\n",
              "_source.complaint_what_happened       0.000000\n",
              "_source.sub_issue                    59.117899\n",
              "_source.consumer_consent_provided     1.287143\n",
              "dtype: float64"
            ]
          },
          "metadata": {},
          "execution_count": 12
        }
      ]
    },
    {
      "cell_type": "code",
      "source": [
        "## Drop columns where 80% of the data is na \n",
        "\n",
        "df.drop([\"_source.tags\",\"_source.company_public_response\"],inplace=True, axis=1)"
      ],
      "metadata": {
        "id": "i61KRruS-6Xu"
      },
      "execution_count": 13,
      "outputs": []
    },
    {
      "cell_type": "code",
      "source": [
        "# check again  : find % of of na columns wise \n",
        "\n",
        "df.isna().sum()/len(df.index)*100"
      ],
      "metadata": {
        "colab": {
          "base_uri": "https://localhost:8080/"
        },
        "id": "DO-Pex1MBksl",
        "outputId": "1bc2f474-0182-4d87-961e-9da9eadc2fbb"
      },
      "execution_count": 14,
      "outputs": [
        {
          "output_type": "execute_result",
          "data": {
            "text/plain": [
              "_index                                0.000000\n",
              "_type                                 0.000000\n",
              "_id                                   0.000000\n",
              "_score                                0.000000\n",
              "_source.zip_code                      8.628197\n",
              "_source.complaint_id                  0.000000\n",
              "_source.issue                         0.000000\n",
              "_source.date_received                 0.000000\n",
              "_source.state                         2.542362\n",
              "_source.consumer_disputed             0.000000\n",
              "_source.product                       0.000000\n",
              "_source.company_response              0.000000\n",
              "_source.company                       0.000000\n",
              "_source.submitted_via                 0.000000\n",
              "_source.date_sent_to_company          0.000000\n",
              "_source.sub_product                  13.498397\n",
              "_source.timely                        0.000000\n",
              "_source.complaint_what_happened       0.000000\n",
              "_source.sub_issue                    59.117899\n",
              "_source.consumer_consent_provided     1.287143\n",
              "dtype: float64"
            ]
          },
          "metadata": {},
          "execution_count": 14
        }
      ]
    },
    {
      "cell_type": "code",
      "metadata": {
        "id": "Dwcty-wmJrFw",
        "colab": {
          "base_uri": "https://localhost:8080/"
        },
        "outputId": "25afa8e2-8eb6-4746-f1a6-e15afd44c53d"
      },
      "source": [
        "#print the column names\n",
        "df.columns"
      ],
      "execution_count": 15,
      "outputs": [
        {
          "output_type": "execute_result",
          "data": {
            "text/plain": [
              "Index(['_index', '_type', '_id', '_score', '_source.zip_code',\n",
              "       '_source.complaint_id', '_source.issue', '_source.date_received',\n",
              "       '_source.state', '_source.consumer_disputed', '_source.product',\n",
              "       '_source.company_response', '_source.company', '_source.submitted_via',\n",
              "       '_source.date_sent_to_company', '_source.sub_product', '_source.timely',\n",
              "       '_source.complaint_what_happened', '_source.sub_issue',\n",
              "       '_source.consumer_consent_provided'],\n",
              "      dtype='object')"
            ]
          },
          "metadata": {},
          "execution_count": 15
        }
      ]
    },
    {
      "cell_type": "code",
      "metadata": {
        "id": "FYCtKXD1JrFw",
        "colab": {
          "base_uri": "https://localhost:8080/"
        },
        "outputId": "7bf4ae65-8649-46da-899d-e8439ef7a12c"
      },
      "source": [
        "#Assign new column names\n",
        "zip_iterator = zip(list(df.columns), [(x.replace(\"_\",\"\")).replace(\"source.\",\"\") for x in list(df.columns)])\n",
        "df.rename(columns=dict(zip_iterator), inplace=True)\n",
        "df.rename(columns={\"complaintwhathappened\":\"complaints\"},inplace=True)\n",
        "\n",
        "# check changes column names\n",
        "df.columns "
      ],
      "execution_count": 16,
      "outputs": [
        {
          "output_type": "execute_result",
          "data": {
            "text/plain": [
              "Index(['index', 'type', 'id', 'score', 'zipcode', 'complaintid', 'issue',\n",
              "       'datereceived', 'state', 'consumerdisputed', 'product',\n",
              "       'companyresponse', 'company', 'submittedvia', 'datesenttocompany',\n",
              "       'subproduct', 'timely', 'complaints', 'subissue',\n",
              "       'consumerconsentprovided'],\n",
              "      dtype='object')"
            ]
          },
          "metadata": {},
          "execution_count": 16
        }
      ]
    },
    {
      "cell_type": "code",
      "source": [
        "# check columns with blanks  \n",
        "\n",
        "(df[:] == \"\").sum()"
      ],
      "metadata": {
        "colab": {
          "base_uri": "https://localhost:8080/"
        },
        "id": "L9CtekRQHieA",
        "outputId": "30e3bc15-82d9-44e4-f66a-d7f6d5032eca"
      },
      "execution_count": 17,
      "outputs": [
        {
          "output_type": "execute_result",
          "data": {
            "text/plain": [
              "index                          0\n",
              "type                           0\n",
              "id                             0\n",
              "score                          0\n",
              "zipcode                        0\n",
              "complaintid                    0\n",
              "issue                          0\n",
              "datereceived                   0\n",
              "state                          0\n",
              "consumerdisputed               0\n",
              "product                        0\n",
              "companyresponse                0\n",
              "company                        0\n",
              "submittedvia                   0\n",
              "datesenttocompany              0\n",
              "subproduct                     0\n",
              "timely                         0\n",
              "complaints                 57241\n",
              "subissue                       0\n",
              "consumerconsentprovided        0\n",
              "dtype: int64"
            ]
          },
          "metadata": {},
          "execution_count": 17
        }
      ]
    },
    {
      "cell_type": "code",
      "metadata": {
        "id": "grQUPFL5JrFx"
      },
      "source": [
        "#Assign nan in place of blanks in the complaints column\n",
        "\n",
        "df.replace(\"\", np.nan , inplace=True)"
      ],
      "execution_count": 18,
      "outputs": []
    },
    {
      "cell_type": "code",
      "source": [
        "df.isna().sum()"
      ],
      "metadata": {
        "colab": {
          "base_uri": "https://localhost:8080/"
        },
        "id": "YjfTvd9vC59I",
        "outputId": "85299733-c95f-442e-c394-5de444d5f020"
      },
      "execution_count": 19,
      "outputs": [
        {
          "output_type": "execute_result",
          "data": {
            "text/plain": [
              "index                          0\n",
              "type                           0\n",
              "id                             0\n",
              "score                          0\n",
              "zipcode                     6757\n",
              "complaintid                    0\n",
              "issue                          0\n",
              "datereceived                   0\n",
              "state                       1991\n",
              "consumerdisputed               0\n",
              "product                        0\n",
              "companyresponse                0\n",
              "company                        0\n",
              "submittedvia                   0\n",
              "datesenttocompany              0\n",
              "subproduct                 10571\n",
              "timely                         0\n",
              "complaints                 57241\n",
              "subissue                   46297\n",
              "consumerconsentprovided     1008\n",
              "dtype: int64"
            ]
          },
          "metadata": {},
          "execution_count": 19
        }
      ]
    },
    {
      "cell_type": "code",
      "source": [
        "# check again  : find % of of na columns wise \n",
        "\n",
        "df.isna().sum()/len(df.index)*100"
      ],
      "metadata": {
        "colab": {
          "base_uri": "https://localhost:8080/"
        },
        "id": "8CU00NDIJgdi",
        "outputId": "b6a691fe-e39f-4ab3-93c7-1df5e050b255"
      },
      "execution_count": 20,
      "outputs": [
        {
          "output_type": "execute_result",
          "data": {
            "text/plain": [
              "index                       0.000000\n",
              "type                        0.000000\n",
              "id                          0.000000\n",
              "score                       0.000000\n",
              "zipcode                     8.628197\n",
              "complaintid                 0.000000\n",
              "issue                       0.000000\n",
              "datereceived                0.000000\n",
              "state                       2.542362\n",
              "consumerdisputed            0.000000\n",
              "product                     0.000000\n",
              "companyresponse             0.000000\n",
              "company                     0.000000\n",
              "submittedvia                0.000000\n",
              "datesenttocompany           0.000000\n",
              "subproduct                 13.498397\n",
              "timely                      0.000000\n",
              "complaints                 73.092590\n",
              "subissue                   59.117899\n",
              "consumerconsentprovided     1.287143\n",
              "dtype: float64"
            ]
          },
          "metadata": {},
          "execution_count": 20
        }
      ]
    },
    {
      "cell_type": "code",
      "metadata": {
        "id": "Jfxd8VSmJrFy"
      },
      "source": [
        "#Remove all rows where complaints column is nan\n",
        "\n",
        "df.dropna(inplace = True, subset=[\"complaints\"])"
      ],
      "execution_count": 21,
      "outputs": []
    },
    {
      "cell_type": "code",
      "source": [
        "# check again  : find % of of na columns wise \n",
        "\n",
        "df.isna().sum()/len(df.index)*100"
      ],
      "metadata": {
        "colab": {
          "base_uri": "https://localhost:8080/"
        },
        "id": "dQG3IjyuKW4n",
        "outputId": "7136dca6-4a3a-4073-b974-2c8eba0680a4"
      },
      "execution_count": 22,
      "outputs": [
        {
          "output_type": "execute_result",
          "data": {
            "text/plain": [
              "index                       0.000000\n",
              "type                        0.000000\n",
              "id                          0.000000\n",
              "score                       0.000000\n",
              "zipcode                    22.043470\n",
              "complaintid                 0.000000\n",
              "issue                       0.000000\n",
              "datereceived                0.000000\n",
              "state                       0.678626\n",
              "consumerdisputed            0.000000\n",
              "product                     0.000000\n",
              "companyresponse             0.000000\n",
              "company                     0.000000\n",
              "submittedvia                0.000000\n",
              "datesenttocompany           0.000000\n",
              "subproduct                 10.008542\n",
              "timely                      0.000000\n",
              "complaints                  0.000000\n",
              "subissue                   38.800304\n",
              "consumerconsentprovided     0.000000\n",
              "dtype: float64"
            ]
          },
          "metadata": {},
          "execution_count": 22
        }
      ]
    },
    {
      "cell_type": "code",
      "source": [
        "df.shape"
      ],
      "metadata": {
        "colab": {
          "base_uri": "https://localhost:8080/"
        },
        "id": "50M39yzuKzmb",
        "outputId": "b4b14553-086e-4bcb-d00f-a71225615375"
      },
      "execution_count": 23,
      "outputs": [
        {
          "output_type": "execute_result",
          "data": {
            "text/plain": [
              "(21072, 20)"
            ]
          },
          "metadata": {},
          "execution_count": 23
        }
      ]
    },
    {
      "cell_type": "markdown",
      "metadata": {
        "id": "L944HZpsJrFy"
      },
      "source": [
        "## Prepare the text for topic modeling\n",
        "\n",
        "Once you have removed all the blank complaints, you need to:\n",
        "\n",
        "* Make the text lowercase\n",
        "* Remove text in square brackets\n",
        "* Remove punctuation\n",
        "* Remove words containing numbers\n",
        "\n",
        "\n",
        "Once you have done these cleaning operations you need to perform the following:\n",
        "* Lemmatize the texts\n",
        "* Use POS tags to get relevant words from the texts.\n"
      ]
    },
    {
      "cell_type": "code",
      "source": [
        "## check few complaints before cleaning \n",
        "\n",
        "df[\"complaints\"].iloc[1]"
      ],
      "metadata": {
        "id": "ihSSdieDd-Pg",
        "outputId": "90c42283-7d46-4267-8647-e155005a80e3",
        "colab": {
          "base_uri": "https://localhost:8080/",
          "height": 53
        }
      },
      "execution_count": 24,
      "outputs": [
        {
          "output_type": "execute_result",
          "data": {
            "application/vnd.google.colaboratory.intrinsic+json": {
              "type": "string"
            },
            "text/plain": [
              "'I upgraded my XXXX XXXX card in XX/XX/2018 and was told by the agent who did the upgrade my anniversary date would not change. It turned the agent was giving me the wrong information in order to upgrade the account. XXXX   changed my anniversary date from XX/XX/XXXX to XX/XX/XXXX without my consent! XXXX has the recording of the agent who was misled me.'"
            ]
          },
          "metadata": {},
          "execution_count": 24
        }
      ]
    },
    {
      "cell_type": "code",
      "metadata": {
        "id": "qm7SjjSkJrFz"
      },
      "source": [
        "# Write your function here to clean the text and remove all the unnecessary elements.\n",
        "\n",
        "def cleanText(text):\n",
        "  text.lower()\n",
        "  text = re.sub('\\[|\\]',\"\",text)    # Remove text in square brackets \n",
        "  text = re.sub('[^\\w\\s]',\"\",text)  # Remove punctuation\n",
        "  text = re.sub('\\w*\\d\\w*',\"\",text) # Remove words containing numbers\n",
        " # text = re.sub('[x]{2,}',\"\",text) # Remove words containing w\n",
        "  return text.strip()\n",
        "\n",
        "df[\"complaints\"] = df[\"complaints\"].apply(cleanText) "
      ],
      "execution_count": 25,
      "outputs": []
    },
    {
      "cell_type": "code",
      "source": [
        "## check few complaints after cleaning \n",
        "\n",
        "df[\"complaints\"].iloc[1]"
      ],
      "metadata": {
        "id": "owxWww9DbmhB",
        "outputId": "bb6ee5dd-c2ca-433e-870d-0547e471e807",
        "colab": {
          "base_uri": "https://localhost:8080/",
          "height": 53
        }
      },
      "execution_count": 26,
      "outputs": [
        {
          "output_type": "execute_result",
          "data": {
            "application/vnd.google.colaboratory.intrinsic+json": {
              "type": "string"
            },
            "text/plain": [
              "'I upgraded my XXXX XXXX card in  and was told by the agent who did the upgrade my anniversary date would not change It turned the agent was giving me the wrong information in order to upgrade the account XXXX   changed my anniversary date from XXXXXXXX to XXXXXXXX without my consent XXXX has the recording of the agent who was misled me'"
            ]
          },
          "metadata": {},
          "execution_count": 26
        }
      ]
    },
    {
      "cell_type": "code",
      "source": [
        "def check_word_frequency(text):\n",
        "    return len(str(text).split(' '))"
      ],
      "metadata": {
        "id": "kH5owSWPPLfO"
      },
      "execution_count": 27,
      "outputs": []
    },
    {
      "cell_type": "code",
      "source": [
        "df['word_freq_complaints'] = df['complaints'].apply(check_word_frequency)\n",
        "df['word_freq_complaints'].describe()"
      ],
      "metadata": {
        "colab": {
          "base_uri": "https://localhost:8080/"
        },
        "id": "J_vUjY5CPOTp",
        "outputId": "f0ed4ef1-679d-4ea4-e85b-2af86a40795e"
      },
      "execution_count": 28,
      "outputs": [
        {
          "output_type": "execute_result",
          "data": {
            "text/plain": [
              "count    21072.000000\n",
              "mean       253.904518\n",
              "std        271.936512\n",
              "min          1.000000\n",
              "25%         97.000000\n",
              "50%        181.000000\n",
              "75%        321.000000\n",
              "max       5556.000000\n",
              "Name: word_freq_complaints, dtype: float64"
            ]
          },
          "metadata": {},
          "execution_count": 28
        }
      ]
    },
    {
      "cell_type": "code",
      "metadata": {
        "id": "zgOu8t8HJrFz"
      },
      "source": [
        "#Write your function to Lemmatize the texts\n",
        "\n",
        "def lemmatize_text(text):\n",
        "  tokens = word_tokenize(text)\n",
        "  wordnet_lemmatizer = WordNetLemmatizer()\n",
        "  lemmatized = [wordnet_lemmatizer.lemmatize(token) for token in tokens]\n",
        "  lemmatized = [wordnet_lemmatizer.lemmatize(token) for token in tokens]\n",
        "  return \" \".join(lemmatized)"
      ],
      "execution_count": 29,
      "outputs": []
    },
    {
      "cell_type": "code",
      "metadata": {
        "id": "uXnN7aa_JrF0"
      },
      "source": [
        "#Create a dataframe('df_clean') that will have only the complaints and the lemmatized complaints \n",
        "df['lemmatized complaints'] =  df['complaints'].apply(lemmatize_text)\n"
      ],
      "execution_count": 30,
      "outputs": []
    },
    {
      "cell_type": "code",
      "metadata": {
        "id": "nOiDVvEIJrF0",
        "colab": {
          "base_uri": "https://localhost:8080/",
          "height": 206
        },
        "outputId": "573b8373-289c-4248-a012-5c57a171e93b"
      },
      "source": [
        "df_clean = df[['complaints' , 'lemmatized complaints']].copy()\n",
        "df_clean.head()"
      ],
      "execution_count": 31,
      "outputs": [
        {
          "output_type": "execute_result",
          "data": {
            "text/html": [
              "\n",
              "  <div id=\"df-18848c72-89e1-4198-952a-cfdeedad0c6d\">\n",
              "    <div class=\"colab-df-container\">\n",
              "      <div>\n",
              "<style scoped>\n",
              "    .dataframe tbody tr th:only-of-type {\n",
              "        vertical-align: middle;\n",
              "    }\n",
              "\n",
              "    .dataframe tbody tr th {\n",
              "        vertical-align: top;\n",
              "    }\n",
              "\n",
              "    .dataframe thead th {\n",
              "        text-align: right;\n",
              "    }\n",
              "</style>\n",
              "<table border=\"1\" class=\"dataframe\">\n",
              "  <thead>\n",
              "    <tr style=\"text-align: right;\">\n",
              "      <th></th>\n",
              "      <th>complaints</th>\n",
              "      <th>lemmatized complaints</th>\n",
              "    </tr>\n",
              "  </thead>\n",
              "  <tbody>\n",
              "    <tr>\n",
              "      <th>1</th>\n",
              "      <td>Good morning my name is XXXX XXXX and I apprec...</td>\n",
              "      <td>Good morning my name is XXXX XXXX and I apprec...</td>\n",
              "    </tr>\n",
              "    <tr>\n",
              "      <th>2</th>\n",
              "      <td>I upgraded my XXXX XXXX card in  and was told ...</td>\n",
              "      <td>I upgraded my XXXX XXXX card in and wa told by...</td>\n",
              "    </tr>\n",
              "    <tr>\n",
              "      <th>10</th>\n",
              "      <td>Chase Card was reported on  However fraudulent...</td>\n",
              "      <td>Chase Card wa reported on However fraudulent a...</td>\n",
              "    </tr>\n",
              "    <tr>\n",
              "      <th>11</th>\n",
              "      <td>On  while trying to book a XXXX  XXXX  ticket ...</td>\n",
              "      <td>On while trying to book a XXXX XXXX ticket I c...</td>\n",
              "    </tr>\n",
              "    <tr>\n",
              "      <th>14</th>\n",
              "      <td>my grand son give me check for  i deposit it i...</td>\n",
              "      <td>my grand son give me check for i deposit it in...</td>\n",
              "    </tr>\n",
              "  </tbody>\n",
              "</table>\n",
              "</div>\n",
              "      <button class=\"colab-df-convert\" onclick=\"convertToInteractive('df-18848c72-89e1-4198-952a-cfdeedad0c6d')\"\n",
              "              title=\"Convert this dataframe to an interactive table.\"\n",
              "              style=\"display:none;\">\n",
              "        \n",
              "  <svg xmlns=\"http://www.w3.org/2000/svg\" height=\"24px\"viewBox=\"0 0 24 24\"\n",
              "       width=\"24px\">\n",
              "    <path d=\"M0 0h24v24H0V0z\" fill=\"none\"/>\n",
              "    <path d=\"M18.56 5.44l.94 2.06.94-2.06 2.06-.94-2.06-.94-.94-2.06-.94 2.06-2.06.94zm-11 1L8.5 8.5l.94-2.06 2.06-.94-2.06-.94L8.5 2.5l-.94 2.06-2.06.94zm10 10l.94 2.06.94-2.06 2.06-.94-2.06-.94-.94-2.06-.94 2.06-2.06.94z\"/><path d=\"M17.41 7.96l-1.37-1.37c-.4-.4-.92-.59-1.43-.59-.52 0-1.04.2-1.43.59L10.3 9.45l-7.72 7.72c-.78.78-.78 2.05 0 2.83L4 21.41c.39.39.9.59 1.41.59.51 0 1.02-.2 1.41-.59l7.78-7.78 2.81-2.81c.8-.78.8-2.07 0-2.86zM5.41 20L4 18.59l7.72-7.72 1.47 1.35L5.41 20z\"/>\n",
              "  </svg>\n",
              "      </button>\n",
              "      \n",
              "  <style>\n",
              "    .colab-df-container {\n",
              "      display:flex;\n",
              "      flex-wrap:wrap;\n",
              "      gap: 12px;\n",
              "    }\n",
              "\n",
              "    .colab-df-convert {\n",
              "      background-color: #E8F0FE;\n",
              "      border: none;\n",
              "      border-radius: 50%;\n",
              "      cursor: pointer;\n",
              "      display: none;\n",
              "      fill: #1967D2;\n",
              "      height: 32px;\n",
              "      padding: 0 0 0 0;\n",
              "      width: 32px;\n",
              "    }\n",
              "\n",
              "    .colab-df-convert:hover {\n",
              "      background-color: #E2EBFA;\n",
              "      box-shadow: 0px 1px 2px rgba(60, 64, 67, 0.3), 0px 1px 3px 1px rgba(60, 64, 67, 0.15);\n",
              "      fill: #174EA6;\n",
              "    }\n",
              "\n",
              "    [theme=dark] .colab-df-convert {\n",
              "      background-color: #3B4455;\n",
              "      fill: #D2E3FC;\n",
              "    }\n",
              "\n",
              "    [theme=dark] .colab-df-convert:hover {\n",
              "      background-color: #434B5C;\n",
              "      box-shadow: 0px 1px 3px 1px rgba(0, 0, 0, 0.15);\n",
              "      filter: drop-shadow(0px 1px 2px rgba(0, 0, 0, 0.3));\n",
              "      fill: #FFFFFF;\n",
              "    }\n",
              "  </style>\n",
              "\n",
              "      <script>\n",
              "        const buttonEl =\n",
              "          document.querySelector('#df-18848c72-89e1-4198-952a-cfdeedad0c6d button.colab-df-convert');\n",
              "        buttonEl.style.display =\n",
              "          google.colab.kernel.accessAllowed ? 'block' : 'none';\n",
              "\n",
              "        async function convertToInteractive(key) {\n",
              "          const element = document.querySelector('#df-18848c72-89e1-4198-952a-cfdeedad0c6d');\n",
              "          const dataTable =\n",
              "            await google.colab.kernel.invokeFunction('convertToInteractive',\n",
              "                                                     [key], {});\n",
              "          if (!dataTable) return;\n",
              "\n",
              "          const docLinkHtml = 'Like what you see? Visit the ' +\n",
              "            '<a target=\"_blank\" href=https://colab.research.google.com/notebooks/data_table.ipynb>data table notebook</a>'\n",
              "            + ' to learn more about interactive tables.';\n",
              "          element.innerHTML = '';\n",
              "          dataTable['output_type'] = 'display_data';\n",
              "          await google.colab.output.renderOutput(dataTable, element);\n",
              "          const docLink = document.createElement('div');\n",
              "          docLink.innerHTML = docLinkHtml;\n",
              "          element.appendChild(docLink);\n",
              "        }\n",
              "      </script>\n",
              "    </div>\n",
              "  </div>\n",
              "  "
            ],
            "text/plain": [
              "                                           complaints                              lemmatized complaints\n",
              "1   Good morning my name is XXXX XXXX and I apprec...  Good morning my name is XXXX XXXX and I apprec...\n",
              "2   I upgraded my XXXX XXXX card in  and was told ...  I upgraded my XXXX XXXX card in and wa told by...\n",
              "10  Chase Card was reported on  However fraudulent...  Chase Card wa reported on However fraudulent a...\n",
              "11  On  while trying to book a XXXX  XXXX  ticket ...  On while trying to book a XXXX XXXX ticket I c...\n",
              "14  my grand son give me check for  i deposit it i...  my grand son give me check for i deposit it in..."
            ]
          },
          "metadata": {},
          "execution_count": 31
        }
      ]
    },
    {
      "cell_type": "code",
      "metadata": {
        "id": "Kk7fc4DuJrF1"
      },
      "source": [
        "#Write your function to extract the POS tags \n",
        "\n",
        "def extract_nounPOS(text):\n",
        "  nouns =  [token for token, pos in pos_tag(word_tokenize(text)) if pos.startswith('N')]\n",
        "  return nouns"
      ],
      "execution_count": 39,
      "outputs": []
    },
    {
      "cell_type": "code",
      "metadata": {
        "id": "AjxfchvFJrF2"
      },
      "source": [
        "#The clean dataframe should now contain the raw complaint, lemmatized complaint and the complaint after removing POS tags.\n",
        "df_clean['complaintafterremovingPOStags'] =  df['lemmatized complaints'].apply(extract_nounPOS)"
      ],
      "execution_count": 48,
      "outputs": []
    },
    {
      "cell_type": "markdown",
      "metadata": {
        "id": "_7Un1AElJrF2"
      },
      "source": [
        "## Exploratory data analysis to get familiar with the data.\n",
        "\n",
        "Write the code in this task to perform the following:\n",
        "\n",
        "*   Visualise the data according to the 'Complaint' character length\n",
        "*   Using a word cloud find the top 40 words by frequency among all the articles after processing the text\n",
        "*   Find the top unigrams,bigrams and trigrams by frequency among all the complaints after processing the text. ‘\n",
        "\n",
        "\n"
      ]
    },
    {
      "cell_type": "code",
      "metadata": {
        "id": "q-zaqJF6JrF2"
      },
      "source": [
        "# Write your code here to visualise the data according to the 'Complaint' character length"
      ],
      "execution_count": null,
      "outputs": []
    },
    {
      "cell_type": "markdown",
      "metadata": {
        "id": "T9jD_6SeJrF3"
      },
      "source": [
        "#### Find the top 40 words by frequency among all the articles after processing the text."
      ]
    },
    {
      "cell_type": "code",
      "metadata": {
        "id": "QcfdvtfZJrF3"
      },
      "source": [
        "#Using a word cloud find the top 40 words by frequency among all the articles after processing the text\n"
      ],
      "execution_count": null,
      "outputs": []
    },
    {
      "cell_type": "code",
      "metadata": {
        "id": "OkSmc3UaJrF4"
      },
      "source": [
        "#Removing -PRON- from the text corpus\n",
        "df_clean['Complaint_clean'] = df_clean['complaint_POS_removed'].str.replace('-PRON-', '')"
      ],
      "execution_count": null,
      "outputs": []
    },
    {
      "cell_type": "markdown",
      "metadata": {
        "id": "5DfCSbbmJrF4"
      },
      "source": [
        "#### Find the top unigrams,bigrams and trigrams by frequency among all the complaints after processing the text."
      ]
    },
    {
      "cell_type": "code",
      "metadata": {
        "id": "5mbk5DS5JrF4"
      },
      "source": [
        "#Write your code here to find the top 30 unigram frequency among the complaints in the cleaned datafram(df_clean). \n"
      ],
      "execution_count": null,
      "outputs": []
    },
    {
      "cell_type": "code",
      "metadata": {
        "id": "YX7fedm1JrF8"
      },
      "source": [
        "#Print the top 10 words in the unigram frequency\n"
      ],
      "execution_count": null,
      "outputs": []
    },
    {
      "cell_type": "code",
      "metadata": {
        "id": "aV7kD7w8JrF8"
      },
      "source": [
        "#Write your code here to find the top 30 bigram frequency among the complaints in the cleaned datafram(df_clean). \n"
      ],
      "execution_count": null,
      "outputs": []
    },
    {
      "cell_type": "code",
      "metadata": {
        "id": "NPnMNIpyJrF9"
      },
      "source": [
        "#Print the top 10 words in the bigram frequency"
      ],
      "execution_count": null,
      "outputs": []
    },
    {
      "cell_type": "code",
      "metadata": {
        "id": "Xkh7vtbtJrF-"
      },
      "source": [
        "#Write your code here to find the top 30 trigram frequency among the complaints in the cleaned datafram(df_clean). \n"
      ],
      "execution_count": null,
      "outputs": []
    },
    {
      "cell_type": "code",
      "metadata": {
        "id": "REcVxNfvJrF-"
      },
      "source": [
        "#Print the top 10 words in the trigram frequency"
      ],
      "execution_count": null,
      "outputs": []
    },
    {
      "cell_type": "markdown",
      "metadata": {
        "id": "yUXzFji0JrF_"
      },
      "source": [
        "## The personal details of customer has been masked in the dataset with xxxx. Let's remove the masked text as this will be of no use for our analysis"
      ]
    },
    {
      "cell_type": "code",
      "metadata": {
        "id": "wKda-a_IJrF_"
      },
      "source": [
        "df_clean['Complaint_clean'] = df_clean['Complaint_clean'].str.replace('xxxx','')"
      ],
      "execution_count": null,
      "outputs": []
    },
    {
      "cell_type": "code",
      "metadata": {
        "id": "9UIFk8fQJrF_"
      },
      "source": [
        "#All masked texts has been removed\n",
        "df_clean"
      ],
      "execution_count": null,
      "outputs": []
    },
    {
      "cell_type": "markdown",
      "metadata": {
        "id": "k-I0k0QtJrGA"
      },
      "source": [
        "## Feature Extraction\n",
        "Convert the raw texts to a matrix of TF-IDF features\n",
        "\n",
        "**max_df** is used for removing terms that appear too frequently, also known as \"corpus-specific stop words\"\n",
        "max_df = 0.95 means \"ignore terms that appear in more than 95% of the complaints\"\n",
        "\n",
        "**min_df** is used for removing terms that appear too infrequently\n",
        "min_df = 2 means \"ignore terms that appear in less than 2 complaints\""
      ]
    },
    {
      "cell_type": "code",
      "metadata": {
        "id": "Y8fGwaCPJrGA"
      },
      "source": [
        "#Write your code here to initialise the TfidfVectorizer \n",
        "\n"
      ],
      "execution_count": null,
      "outputs": []
    },
    {
      "cell_type": "markdown",
      "metadata": {
        "id": "yYzD85nTJrGA"
      },
      "source": [
        "#### Create a document term matrix using fit_transform\n",
        "\n",
        "The contents of a document term matrix are tuples of (complaint_id,token_id) tf-idf score:\n",
        "The tuples that are not there have a tf-idf score of 0"
      ]
    },
    {
      "cell_type": "code",
      "metadata": {
        "id": "ffzdDpp_JrGB"
      },
      "source": [
        "#Write your code here to create the Document Term Matrix by transforming the complaints column present in df_clean.\n"
      ],
      "execution_count": null,
      "outputs": []
    },
    {
      "cell_type": "markdown",
      "metadata": {
        "id": "7Q9lwvNEJrGB"
      },
      "source": [
        "## Topic Modelling using NMF\n",
        "\n",
        "Non-Negative Matrix Factorization (NMF) is an unsupervised technique so there are no labeling of topics that the model will be trained on. The way it works is that, NMF decomposes (or factorizes) high-dimensional vectors into a lower-dimensional representation. These lower-dimensional vectors are non-negative which also means their coefficients are non-negative.\n",
        "\n",
        "In this task you have to perform the following:\n",
        "\n",
        "* Find the best number of clusters \n",
        "* Apply the best number to create word clusters\n",
        "* Inspect & validate the correction of each cluster wrt the complaints \n",
        "* Correct the labels if needed \n",
        "* Map the clusters to topics/cluster names"
      ]
    },
    {
      "cell_type": "code",
      "metadata": {
        "id": "amLT4omWJrGB"
      },
      "source": [
        "from sklearn.decomposition import NMF"
      ],
      "execution_count": null,
      "outputs": []
    },
    {
      "cell_type": "markdown",
      "metadata": {
        "id": "0wYR1xUTJrGD"
      },
      "source": [
        "## Manual Topic Modeling\n",
        "You need to do take the trial & error approach to find the best num of topics for your NMF model.\n",
        "\n",
        "The only parameter that is required is the number of components i.e. the number of topics we want. This is the most crucial step in the whole topic modeling process and will greatly affect how good your final topics are."
      ]
    },
    {
      "cell_type": "code",
      "metadata": {
        "id": "sgd2A6bhJrGD"
      },
      "source": [
        "#Load your nmf_model with the n_components i.e 5\n",
        "num_topics = #write the value you want to test out\n",
        "\n",
        "#keep the random_state =40\n",
        "nmf_model = #write your code here"
      ],
      "execution_count": null,
      "outputs": []
    },
    {
      "cell_type": "code",
      "metadata": {
        "id": "VPMDYbt_JrGE"
      },
      "source": [
        "nmf_model.fit(dtm)\n",
        "len(tfidf.get_feature_names())"
      ],
      "execution_count": null,
      "outputs": []
    },
    {
      "cell_type": "code",
      "metadata": {
        "id": "16kRfat5JrGE"
      },
      "source": [
        "#Print the Top15 words for each of the topics\n"
      ],
      "execution_count": null,
      "outputs": []
    },
    {
      "cell_type": "code",
      "metadata": {
        "id": "0OIT7LmFJrGF"
      },
      "source": [
        "#Create the best topic for each complaint in terms of integer value 0,1,2,3 & 4\n",
        "\n"
      ],
      "execution_count": null,
      "outputs": []
    },
    {
      "cell_type": "code",
      "metadata": {
        "id": "peyYv-ORJrGF"
      },
      "source": [
        "#Assign the best topic to each of the cmplaints in Topic Column\n",
        "\n",
        "df_clean['Topic'] = #write your code to assign topics to each rows."
      ],
      "execution_count": null,
      "outputs": []
    },
    {
      "cell_type": "code",
      "metadata": {
        "id": "fLh_Gf3nJrGF"
      },
      "source": [
        "df_clean.head()"
      ],
      "execution_count": null,
      "outputs": []
    },
    {
      "cell_type": "code",
      "metadata": {
        "id": "aQKpufSPJrGG"
      },
      "source": [
        "#Print the first 5 Complaint for each of the Topics\n",
        "df_clean=df_clean.groupby('Topic').head(5)\n",
        "df_clean.sort_values('Topic')"
      ],
      "execution_count": null,
      "outputs": []
    },
    {
      "cell_type": "markdown",
      "metadata": {
        "id": "piyLxzj6v07j"
      },
      "source": [
        "#### After evaluating the mapping, if the topics assigned are correct then assign these names to the relevant topic:\n",
        "* Bank Account services\n",
        "* Credit card or prepaid card\n",
        "* Theft/Dispute Reporting\n",
        "* Mortgage/Loan\n",
        "* Others"
      ]
    },
    {
      "cell_type": "code",
      "metadata": {
        "id": "TWpwDG4RJrGG"
      },
      "source": [
        "#Create the dictionary of Topic names and Topics\n",
        "\n",
        "Topic_names = {   }\n",
        "#Replace Topics with Topic Names\n",
        "df_clean['Topic'] = df_clean['Topic'].map(Topic_names)"
      ],
      "execution_count": null,
      "outputs": []
    },
    {
      "cell_type": "code",
      "metadata": {
        "id": "-2ULY5K6JrGG"
      },
      "source": [
        "df_clean"
      ],
      "execution_count": null,
      "outputs": []
    },
    {
      "cell_type": "markdown",
      "metadata": {
        "id": "7Mu0QBOcJrGH"
      },
      "source": [
        "## Supervised model to predict any new complaints to the relevant Topics.\n",
        "\n",
        "You have now build the model to create the topics for each complaints.Now in the below section you will use them to classify any new complaints.\n",
        "\n",
        "Since you will be using supervised learning technique we have to convert the topic names to numbers(numpy arrays only understand numbers)"
      ]
    },
    {
      "cell_type": "code",
      "metadata": {
        "id": "_U8J3J8wJrGH"
      },
      "source": [
        "#Create the dictionary again of Topic names and Topics\n",
        "\n",
        "Topic_names = {   }\n",
        "#Replace Topics with Topic Names\n",
        "df_clean['Topic'] = df_clean['Topic'].map(Topic_names)"
      ],
      "execution_count": null,
      "outputs": []
    },
    {
      "cell_type": "code",
      "metadata": {
        "id": "BWIgJUkQJrGH"
      },
      "source": [
        "df_clean"
      ],
      "execution_count": null,
      "outputs": []
    },
    {
      "cell_type": "code",
      "metadata": {
        "id": "Xx-FrbkWJrGH"
      },
      "source": [
        "#Keep the columns\"complaint_what_happened\" & \"Topic\" only in the new dataframe --> training_data\n",
        "training_data="
      ],
      "execution_count": null,
      "outputs": []
    },
    {
      "cell_type": "code",
      "metadata": {
        "id": "lVg2pa12JrGI"
      },
      "source": [
        "training_data"
      ],
      "execution_count": null,
      "outputs": []
    },
    {
      "cell_type": "markdown",
      "metadata": {
        "id": "280Vbqk-7a8M"
      },
      "source": [
        "####Apply the supervised models on the training data created. In this process, you have to do the following:\n",
        "* Create the vector counts using Count Vectoriser\n",
        "* Transform the word vecotr to tf-idf\n",
        "* Create the train & test data using the train_test_split on the tf-idf & topics\n"
      ]
    },
    {
      "cell_type": "code",
      "metadata": {
        "id": "oUlQpgkzJrGI"
      },
      "source": [
        "\n",
        "#Write your code to get the Vector count\n",
        "\n",
        "\n",
        "#Write your code here to transform the word vector to tf-idf"
      ],
      "execution_count": null,
      "outputs": []
    },
    {
      "cell_type": "markdown",
      "metadata": {
        "id": "uMU3vj6w-wqL"
      },
      "source": [
        "You have to try atleast 3 models on the train & test data from these options:\n",
        "* Logistic regression\n",
        "* Decision Tree\n",
        "* Random Forest\n",
        "* Naive Bayes (optional)\n",
        "\n",
        "**Using the required evaluation metrics judge the tried models and select the ones performing the best**"
      ]
    },
    {
      "cell_type": "code",
      "metadata": {
        "id": "udLHpPsZJrGI"
      },
      "source": [
        "# Write your code here to build any 3 models and evaluate them using the required metrics\n",
        "\n",
        "\n",
        "\n"
      ],
      "execution_count": null,
      "outputs": []
    },
    {
      "cell_type": "code",
      "metadata": {
        "id": "N2OznsObJrGP"
      },
      "source": [
        ""
      ],
      "execution_count": null,
      "outputs": []
    }
  ]
}